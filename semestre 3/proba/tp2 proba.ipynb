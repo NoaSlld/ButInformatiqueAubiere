{
 "cells": [
  {
   "cell_type": "code",
   "execution_count": 1,
   "id": "2c3cad3a",
   "metadata": {},
   "outputs": [],
   "source": [
    "from scipy.stats import bernoulli\n",
    "from random import random\n",
    "import matplotlib.pyplot as plt\n",
    "from scipy.special import factorial,binom\n",
    "import numpy as np"
   ]
  },
  {
   "cell_type": "markdown",
   "id": "90617a34",
   "metadata": {},
   "source": [
    "## Exercice 1"
   ]
  },
  {
   "cell_type": "markdown",
   "id": "0fcdd719",
   "metadata": {},
   "source": [
    "#1  \n",
    "k ou k+1"
   ]
  },
  {
   "cell_type": "code",
   "execution_count": 2,
   "id": "3f3cfb9a",
   "metadata": {},
   "outputs": [],
   "source": [
    "#2\n",
    "#loi de bernoulli\n",
    "def bernoulli(prob):\n",
    "    if random() >= prob:\n",
    "        return 1\n",
    "    else:\n",
    "        return 0"
   ]
  },
  {
   "cell_type": "code",
   "execution_count": 7,
   "id": "142d1003",
   "metadata": {},
   "outputs": [
    {
     "name": "stdout",
     "output_type": "stream",
     "text": [
      "1\n"
     ]
    }
   ],
   "source": [
    "prob = 0.5\n",
    "print(bernoulli(prob))"
   ]
  },
  {
   "cell_type": "code",
   "execution_count": 8,
   "id": "36722116",
   "metadata": {},
   "outputs": [],
   "source": [
    "#3\n",
    "#planche de Galton\n",
    "def simul_planche(N,p):\n",
    "    place = 0\n",
    "    for i in range(N):\n",
    "        place += bernoulli(p)\n",
    "    return place "
   ]
  },
  {
   "cell_type": "code",
   "execution_count": 6,
   "id": "bf704965",
   "metadata": {},
   "outputs": [
    {
     "name": "stdout",
     "output_type": "stream",
     "text": [
      "3\n"
     ]
    }
   ],
   "source": [
    "N=12\n",
    "p=0.5\n",
    "print(simul_planche(N,p))"
   ]
  },
  {
   "cell_type": "code",
   "execution_count": 51,
   "id": "1b064498",
   "metadata": {},
   "outputs": [],
   "source": [
    "#4\n",
    "place = []\n",
    "for i in range(10000):\n",
    "    place.append(simul_planche(12,0.5))\n",
    "#print(place)"
   ]
  },
  {
   "cell_type": "code",
   "execution_count": 52,
   "id": "14188d7c",
   "metadata": {},
   "outputs": [
    {
     "data": {
      "image/png": "[encoded data removed]",
      "text/plain": [
       "<Figure size 432x288 with 1 Axes>"
      ]
     },
     "metadata": {
      "needs_background": "light"
     },
     "output_type": "display_data"
    }
   ],
   "source": [
    "#5\n",
    "plt.hist(place, range=(0,12),bins=12)\n",
    "plt.show()"
   ]
  },
  {
   "cell_type": "code",
   "execution_count": 53,
   "id": "0f58c03e",
   "metadata": {},
   "outputs": [
    {
     "data": {
      "image/png": "[encoded data removed]",
      "text/plain": [
       "<Figure size 432x288 with 1 Axes>"
      ]
     },
     "metadata": {
      "needs_background": "light"
     },
     "output_type": "display_data"
    }
   ],
   "source": [
    "#6\n",
    "for i in range(10000):\n",
    "    place.append(simul_planche(12,0.8))\n",
    "plt.hist(place, range=(0,12),bins=12)\n",
    "plt.show()"
   ]
  },
  {
   "cell_type": "markdown",
   "id": "e73e57e7",
   "metadata": {},
   "source": [
    "## Exercice 2"
   ]
  },
  {
   "cell_type": "markdown",
   "id": "f70bcde6",
   "metadata": {},
   "source": [
    "#1  \n",
    "binomial car décrit un nombre de succès dans une série d'experience identiques et indépendantes"
   ]
  },
  {
   "cell_type": "code",
   "execution_count": 54,
   "id": "bb1125bb",
   "metadata": {},
   "outputs": [
    {
     "data": {
      "image/png": "[encoded data removed]",
      "text/plain": [
       "<Figure size 432x288 with 1 Axes>"
      ]
     },
     "metadata": {
      "needs_background": "light"
     },
     "output_type": "display_data"
    }
   ],
   "source": [
    "#2 \n",
    "p=0.5\n",
    "N= 10000\n",
    "#P(X=k) = (k parmis n)*p**(k) *(1-p)**n-k \n",
    "k = np.array(range(12+1))  #[0,1,2,3,4,5,6,7,8,9,10,11,12]\n",
    "plt.plot(k, binom(12, k)*p**(k)*(1-p)**(12-k)*N, 'r')\n",
    "plt.show()\n"
   ]
  },
  {
   "cell_type": "markdown",
   "id": "066b215b",
   "metadata": {},
   "source": [
    "## Exercice 3"
   ]
  },
  {
   "cell_type": "markdown",
   "id": "f64c08dd",
   "metadata": {},
   "source": [
    "#1  \n",
    "Les billes iraient beaucoup plus d'un coté que de l'autre"
   ]
  },
  {
   "cell_type": "markdown",
   "id": "910812be",
   "metadata": {},
   "source": [
    "#2  \n",
    "Poisson  \n",
    "E[X] = V[X] = λ"
   ]
  },
  {
   "cell_type": "markdown",
   "id": "d17211b0",
   "metadata": {},
   "source": [
    "#3  \n",
    "La loi qui l'approche au mieux est la loi poisson car on connait le nombre moyen de rebond vers la gauche et donc la position moyenne d'une bille.  \n",
    "Si X est une variable aléatoire suivant la loi binomiale B(n,p) avec n≥30, p≤0,1 et np≤15, on peut approximer la loi de X par la loi de Poisson de paramètre np"
   ]
  },
  {
   "cell_type": "code",
   "execution_count": 60,
   "id": "5027cf64",
   "metadata": {},
   "outputs": [],
   "source": [
    "def histogramme_et_poisson(N, p, nombre_de_billes):\n",
    "    # Simuler positions arrivée des billes\n",
    "    positions_arrivee = np.random.binomial(N, p, nombre_de_billes)\n",
    "\n",
    "    hist_empirique, bins = np.histogram(positions_arrivee, bins=range(N+2))\n",
    "    plt.bar(bins[:-1], hist_empirique, width=1, align='center')\n",
    "\n",
    "    # Calculer la loi de Poisson avec λ = N * p\n",
    "    lambda_poisson = N * p\n",
    "    poisson_vals = poisson.pmf(range(N+1), lambda_poisson)\n",
    "\n",
    "    plt.plot(range(N+1), poisson_vals * nombre_de_billes, 'ro-', label='Loi de Poisson')\n",
    "    plt.xlabel('Position d\\'arrivée')\n",
    "    plt.ylabel('Fréquence')\n",
    "    plt.legend()\n",
    "\n",
    "    plt.show()"
   ]
  },
  {
   "cell_type": "code",
   "execution_count": 61,
   "id": "de921816",
   "metadata": {
    "scrolled": true
   },
   "outputs": [
    {
     "data": {
      "image/png": "[encoded data removed]",
      "text/plain": [
       "<Figure size 432x288 with 1 Axes>"
      ]
     },
     "metadata": {
      "needs_background": "light"
     },
     "output_type": "display_data"
    }
   ],
   "source": [
    "histogramme_et_poisson(1000, 0.004, 10000)"
   ]
  },
  {
   "cell_type": "markdown",
   "id": "a91543b5",
   "metadata": {},
   "source": [
    "## Exercice 4"
   ]
  },
  {
   "cell_type": "markdown",
   "id": "3135f53c",
   "metadata": {},
   "source": [
    "#1  \n",
    "avec 1 - p = 0,5  \n",
    "m = N * (p - q)  \n",
    "m = 1000 * (0,5 - 0,5) = 1000 * 0 = 0  \n",
    "V = N * p * q  \n",
    "V = 1000 * 0,5 * 0,5 = 1000 * 0,25 = 250  "
   ]
  },
  {
   "cell_type": "markdown",
   "id": "5a75ba4a",
   "metadata": {},
   "source": [
    "#2  \n",
    "Yi = 1 si la bille va à gauche à l étape i  \n",
    "Yi = 0 si la bille va à droite à l étape i \n",
    "La loi de probabilité de chaque Yi est donc une loi de Bernoulli, car il n y a que deux résultats possibles (1 ou 0) et chaque étape est indépendante donc on peut ecrire X sous la forme d'une somme de Yi tel que X = Y1 + Y2 + ... + YN\n"
   ]
  },
  {
   "cell_type": "code",
   "execution_count": 65,
   "id": "6714fd3a",
   "metadata": {},
   "outputs": [
    {
     "data": {
      "image/png": "[encoded data removed]",
      "text/plain": [
       "<Figure size 432x288 with 1 Axes>"
      ]
     },
     "metadata": {
      "needs_background": "light"
     },
     "output_type": "display_data"
    }
   ],
   "source": [
    "#3\n",
    "from scipy.stats import norm\n",
    "\n",
    "N = 10000\n",
    "p = 0.5\n",
    "N_rangées = 1000\n",
    "X = np.random.binomial(N_rangées, p, N)\n",
    "\n",
    "moy = np.mean(X)\n",
    "var= np.var(X)\n",
    "\n",
    "distrib_normale = norm(loc=moy, scale=np.sqrt(var))\n",
    "\n",
    "plt.hist(X, bins=30, density=True, alpha=0.6)\n",
    "\n",
    "x = np.linspace(min(X), max(X), 100)\n",
    "plt.plot(x, distrib_normale.pdf(x), 'r', label='Distribution Normale')\n",
    "\n",
    "plt.show()\n"
   ]
  },
  {
   "cell_type": "code",
   "execution_count": null,
   "id": "704f50a9",
   "metadata": {},
   "outputs": [],
   "source": []
  }
 ],
 "metadata": {
  "kernelspec": {
   "display_name": "Python 3 (ipykernel)",
   "language": "python",
   "name": "python3"
  },
  "language_info": {
   "codemirror_mode": {
    "name": "ipython",
    "version": 3
   },
   "file_extension": ".py",
   "mimetype": "text/x-python",
   "name": "python",
   "nbconvert_exporter": "python",
   "pygments_lexer": "ipython3",
   "version": "3.9.2"
  }
 },
 "nbformat": 4,
 "nbformat_minor": 5
}
