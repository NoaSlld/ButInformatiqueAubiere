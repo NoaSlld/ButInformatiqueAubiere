{
 "cells": [
  {
   "cell_type": "code",
   "execution_count": 24,
   "id": "70ab78c9",
   "metadata": {},
   "outputs": [],
   "source": [
    "import numpy.random as npr\n",
    "from collections import Counter"
   ]
  },
  {
   "cell_type": "markdown",
   "id": "2c550f32",
   "metadata": {},
   "source": [
    "## Exercice 1"
   ]
  },
  {
   "cell_type": "code",
   "execution_count": 18,
   "id": "f32ad108",
   "metadata": {},
   "outputs": [
    {
     "data": {
      "text/plain": [
       "0.417022004702574"
      ]
     },
     "execution_count": 18,
     "metadata": {},
     "output_type": "execute_result"
    }
   ],
   "source": [
    "#1\n",
    "npr.rand()"
   ]
  },
  {
   "cell_type": "code",
   "execution_count": 19,
   "id": "41bee3fe",
   "metadata": {},
   "outputs": [],
   "source": [
    "#2\n",
    "npr.seed(seed=1)"
   ]
  },
  {
   "cell_type": "code",
   "execution_count": 20,
   "id": "24051119",
   "metadata": {},
   "outputs": [
    {
     "data": {
      "text/plain": [
       "4"
      ]
     },
     "execution_count": 20,
     "metadata": {},
     "output_type": "execute_result"
    }
   ],
   "source": [
    "#3\n",
    "npr.randint(3,5)"
   ]
  },
  {
   "cell_type": "markdown",
   "id": "1500d828",
   "metadata": {},
   "source": [
    "#4\n",
    "Il utilise une fonction complexe qui prend en parametre la date precise pour generer des nombres différents à chaque instant."
   ]
  },
  {
   "cell_type": "code",
   "execution_count": 22,
   "id": "12301789",
   "metadata": {},
   "outputs": [
    {
     "name": "stdout",
     "output_type": "stream",
     "text": [
      "[1 0 1 1 0 0 1 0 0 0]\n"
     ]
    }
   ],
   "source": [
    "#5\n",
    "tabBin = npr.randint(2,size=10)\n",
    "print(tabBin)"
   ]
  },
  {
   "cell_type": "code",
   "execution_count": 25,
   "id": "8cef487a",
   "metadata": {},
   "outputs": [
    {
     "name": "stdout",
     "output_type": "stream",
     "text": [
      "Counter({0: 6, 1: 4})\n"
     ]
    }
   ],
   "source": [
    "#6\n",
    "count = Counter(tabBin)\n",
    "print(count)"
   ]
  },
  {
   "cell_type": "code",
   "execution_count": 49,
   "id": "41e98cd1",
   "metadata": {},
   "outputs": [
    {
     "data": {
      "text/plain": [
       "[1, 1, 1, 1, 2, 2, 2, 2, 2]"
      ]
     },
     "execution_count": 49,
     "metadata": {},
     "output_type": "execute_result"
    }
   ],
   "source": [
    "#7\n",
    "def fct_occ(tab):\n",
    "    tabCount = Counter(tab)\n",
    "    return sorted(tabCount.values())\n",
    "fct_occ([1,2,3,4,5,6,7,8,9,7,5,6,3,1])"
   ]
  },
  {
   "cell_type": "code",
   "execution_count": 46,
   "id": "72ec389e",
   "metadata": {},
   "outputs": [
    {
     "name": "stdout",
     "output_type": "stream",
     "text": [
      "[6 5 1 1 5]\n"
     ]
    }
   ],
   "source": [
    "#8\n",
    "tab = npr.randint(1,7,size=5)\n",
    "print(tabBin)"
   ]
  },
  {
   "cell_type": "markdown",
   "id": "a3a4e1b1",
   "metadata": {},
   "source": [
    "#9\n",
    "tab represente les chiffres affichés par les dés. La fonction fct_occ donne le nombre de fois que chaque nombre a été tiré. Si la liste contient donc un 4(pour le carré) ou un 3 et un 2 ( pour le full) ou tous les nombres allant de 1 à 5(pour la petite suite)"
   ]
  },
  {
   "cell_type": "markdown",
   "id": "b38f793f",
   "metadata": {},
   "source": [
    "## Exercice 2"
   ]
  },
  {
   "cell_type": "code",
   "execution_count": 62,
   "id": "44581068",
   "metadata": {},
   "outputs": [
    {
     "name": "stdout",
     "output_type": "stream",
     "text": [
      "176\n"
     ]
    }
   ],
   "source": [
    "#1-a \n",
    "def recherche_carre():\n",
    "    nbrCarre = 0\n",
    "\n",
    "    for i in range(10000):\n",
    "        tab = npr.randint(1,7, size=5)\n",
    "        \n",
    "        if sorted(fct_occ(tab)) == [1,4]:\n",
    "                nbrCarre += 1      \n",
    "    print(nbrCarre)\n",
    "\n",
    "recherche_carre()"
   ]
  },
  {
   "cell_type": "markdown",
   "id": "414a2edc",
   "metadata": {},
   "source": [
    "#1-b carré     \n",
    "(6*5*5)/5"
   ]
  },
  {
   "cell_type": "markdown",
   "id": "a6c23146",
   "metadata": {},
   "source": [
    "#2 full    \n",
    "(6*5*(2 parmis 5))/6^5 = 300/7776"
   ]
  },
  {
   "cell_type": "markdown",
   "id": "9f0b128c",
   "metadata": {},
   "source": [
    "#3 brelan    \n",
    "(6x5x4x(2 parmis 5))/6^5"
   ]
  },
  {
   "cell_type": "markdown",
   "id": "32412884",
   "metadata": {},
   "source": [
    "#4 yam    \n",
    "6/(6^5)\n"
   ]
  },
  {
   "cell_type": "markdown",
   "id": "844f7568",
   "metadata": {},
   "source": [
    "#5 petite suite     \n",
    "(5!)/(6^5)"
   ]
  },
  {
   "cell_type": "code",
   "execution_count": 70,
   "id": "b21422e2",
   "metadata": {},
   "outputs": [],
   "source": [
    "\n",
    "# simultion d'un lancer de 5 dés\n",
    "def simuler_lancer():\n",
    "    return [random.randint(1, 6) for _ in range(5)]\n",
    "\n",
    "def est_full(resultat):\n",
    "    valeurs_uniques = set(resultat)\n",
    "    if len(valeurs_uniques) == 2:\n",
    "        for valeur in valeurs_uniques:\n",
    "            if resultat.count(valeur) == 2 or resultat.count(valeur) == 3:\n",
    "                return True\n",
    "    return False\n",
    "\n",
    "def est_brelan(resultat):\n",
    "    for valeur in resultat:\n",
    "        if resultat.count(valeur) >= 3:\n",
    "            return True\n",
    "    return False\n",
    "\n",
    "def est_yam(resultat):\n",
    "    for valeur in resultat:\n",
    "        if resultat.count(valeur) == 5:\n",
    "            return True\n",
    "    return False\n",
    "\n",
    "def est_petite_suite(resultat):\n",
    "    return set(resultat) == {1, 2, 3, 4, 5}\n"
   ]
  },
  {
   "cell_type": "code",
   "execution_count": 72,
   "id": "44b4bc04",
   "metadata": {},
   "outputs": [],
   "source": [
    "# Nombre de simulations\n",
    "nb_simulations = 10000\n",
    "resultats = {\"full\": 0, \"brelan\": 0, \"yam\": 0, \"petite suite\": 0}"
   ]
  },
  {
   "cell_type": "code",
   "execution_count": 73,
   "id": "cb9b1f42",
   "metadata": {},
   "outputs": [],
   "source": [
    "# Simulations\n",
    "for _ in range(nb_simulations):\n",
    "    lancer = simuler_lancer()\n",
    "    if est_full(lancer):\n",
    "        resultats[\"full\"] += 1\n",
    "    if est_brelan(lancer):\n",
    "        resultats[\"brelan\"] += 1\n",
    "    if est_yam(lancer):\n",
    "        resultats[\"yam\"] += 1\n",
    "    if est_petite_suite(lancer):\n",
    "        resultats[\"petite suite\"] += 1"
   ]
  },
  {
   "cell_type": "code",
   "execution_count": 74,
   "id": "8a810714",
   "metadata": {},
   "outputs": [
    {
     "name": "stdout",
     "output_type": "stream",
     "text": [
      "Estimation numérique des probabilités :\n",
      "Probabilité d'obtenir un full : 0.0370\n",
      "Probabilité d'obtenir un brelan : 0.2114\n",
      "Probabilité d'obtenir un yam : 0.0007\n",
      "Probabilité d'obtenir une petite suite : 0.0136\n"
     ]
    }
   ],
   "source": [
    "# Estimation numérique des probabilités\n",
    "probabilite_full = resultats[\"full\"] / nb_simulations\n",
    "probabilite_brelan = resultats[\"brelan\"] / nb_simulations\n",
    "probabilite_yam = resultats[\"yam\"] / nb_simulations\n",
    "probabilite_petite_suite = resultats[\"petite suite\"] / nb_simulations\n",
    "\n",
    "print(f\"Estimation numérique des probabilités :\")\n",
    "print(f\"Probabilité d'obtenir un full : {probabilite_full:.4f}\")\n",
    "print(f\"Probabilité d'obtenir un brelan : {probabilite_brelan:.4f}\")\n",
    "print(f\"Probabilité d'obtenir un yam : {probabilite_yam:.4f}\")\n",
    "print(f\"Probabilité d'obtenir une petite suite : {probabilite_petite_suite:.4f}\")"
   ]
  },
  {
   "cell_type": "markdown",
   "id": "fec306b9",
   "metadata": {},
   "source": [
    "## Exercice 3"
   ]
  },
  {
   "cell_type": "code",
   "execution_count": 83,
   "id": "3844552f",
   "metadata": {},
   "outputs": [
    {
     "name": "stdout",
     "output_type": "stream",
     "text": [
      "Nombre de 6 obtenus : 3\n"
     ]
    }
   ],
   "source": [
    "#1\n",
    "def joue_les_6():\n",
    "    nombre_de_6 = 0\n",
    "    lancers_restants = 3\n",
    "    \n",
    "    while lancers_restants > 0:\n",
    "        lancers_restants -= 1\n",
    "        des = [random.randint(1, 6) for _ in range(5)]  \n",
    "        des_6 = [d for d in des if d == 6]\n",
    "        nombre_de_6 += len(des_6)\n",
    "        des = [d for d in des if d != 6]\n",
    "        if not des:\n",
    "            break\n",
    "\n",
    "    return nombre_de_6\n",
    "\n",
    "nombre = joue_les_6()\n",
    "print(f\"Nombre de 6 obtenus : {nombre}\")\n"
   ]
  },
  {
   "cell_type": "code",
   "execution_count": 92,
   "id": "4195869b",
   "metadata": {},
   "outputs": [
    {
     "data": {
      "image/png": "[encoded data removed]",
      "text/plain": [
       "<Figure size 432x288 with 1 Axes>"
      ]
     },
     "metadata": {
      "needs_background": "light"
     },
     "output_type": "display_data"
    }
   ],
   "source": [
    "#2\n",
    "import matplotlib.pyplot as plt\n",
    "\n",
    "resultats = [joue_les_6() for _ in range(10000)]\n",
    "\n",
    "plt.hist(resultats, bins= 6)\n",
    "plt.xlabel('Nombre de 6 obtenus')\n",
    "plt.ylabel('Fréquence')\n",
    "plt.title('Histogramme de simulations de \"joue_les_6\"')\n",
    "plt.show()\n"
   ]
  },
  {
   "cell_type": "code",
   "execution_count": null,
   "id": "857f2c65",
   "metadata": {},
   "outputs": [],
   "source": [
    "#3-a\n"
   ]
  }
 ],
 "metadata": {
  "kernelspec": {
   "display_name": "Python 3 (ipykernel)",
   "language": "python",
   "name": "python3"
  },
  "language_info": {
   "codemirror_mode": {
    "name": "ipython",
    "version": 3
   },
   "file_extension": ".py",
   "mimetype": "text/x-python",
   "name": "python",
   "nbconvert_exporter": "python",
   "pygments_lexer": "ipython3",
   "version": "3.9.2"
  }
 },
 "nbformat": 4,
 "nbformat_minor": 5
}
